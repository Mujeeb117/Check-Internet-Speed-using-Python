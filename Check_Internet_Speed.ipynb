{
  "nbformat": 4,
  "nbformat_minor": 0,
  "metadata": {
    "colab": {
      "provenance": []
    },
    "kernelspec": {
      "name": "python3",
      "display_name": "Python 3"
    },
    "language_info": {
      "name": "python"
    }
  },
  "cells": [
    {
      "cell_type": "markdown",
      "source": [
        "# **Check Internet Speed using Python**"
      ],
      "metadata": {
        "id": "0kjHdWinxqMX"
      }
    },
    {
      "cell_type": "code",
      "source": [
        "! pip install speedtest-cli"
      ],
      "metadata": {
        "colab": {
          "base_uri": "https://localhost:8080/"
        },
        "id": "psHN96oTxW-y",
        "outputId": "1ef1295a-9eac-4639-b302-92be2793cd2f"
      },
      "execution_count": 10,
      "outputs": [
        {
          "output_type": "stream",
          "name": "stdout",
          "text": [
            "Collecting speedtest-cli\n",
            "  Downloading speedtest_cli-2.1.3-py2.py3-none-any.whl.metadata (6.8 kB)\n",
            "Downloading speedtest_cli-2.1.3-py2.py3-none-any.whl (23 kB)\n",
            "Installing collected packages: speedtest-cli\n",
            "Successfully installed speedtest-cli-2.1.3\n"
          ]
        }
      ]
    },
    {
      "cell_type": "code",
      "source": [
        "import speedtest as st\n",
        "\n",
        "def SpeedTest():\n",
        "  test= st.Speedtest()\n",
        "  download= test.download()\n",
        "  download= round(download/1000000,2)\n",
        "  print(f'Download Speed: {download} Mbps')\n",
        "\n",
        "  upload= test.upload()\n",
        "  upload= round(upload/1000000,2)\n",
        "  print(f'Upload Speed: {upload} Mbps')\n",
        "\n",
        "  ping= test.results.ping\n",
        "  print(f'Ping: {ping} ms')\n",
        "\n",
        "SpeedTest()"
      ],
      "metadata": {
        "colab": {
          "base_uri": "https://localhost:8080/"
        },
        "id": "C3iiXewY3SoJ",
        "outputId": "83503422-f53c-43d7-ea0f-43053341492e"
      },
      "execution_count": 11,
      "outputs": [
        {
          "output_type": "stream",
          "name": "stdout",
          "text": [
            "Download Speed: 3028.85 Mbps\n",
            "Upload Speed: 687.47 Mbps\n",
            "Ping: 18.293 ms\n"
          ]
        }
      ]
    },
    {
      "cell_type": "code",
      "source": [],
      "metadata": {
        "id": "gFkXHORk3ye8"
      },
      "execution_count": null,
      "outputs": []
    }
  ]
}